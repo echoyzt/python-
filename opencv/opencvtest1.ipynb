{
 "cells": [
  {
   "cell_type": "code",
   "execution_count": 38,
   "metadata": {},
   "outputs": [],
   "source": [
    "import cv2\n",
    "import matplotlib.pyplot as plt\n",
    "import numpy as np\n",
    "%matplotlib inline\n",
    "img=cv2.imread(r\"D:\\hlht\\yuzt\\python\\pythonScripts\\opencv\\testpicture1.jpg\")"
   ]
  },
  {
   "cell_type": "code",
   "execution_count": 39,
   "metadata": {},
   "outputs": [
    {
     "data": {
      "text/plain": [
       "array([[[ 67, 105, 163],\n",
       "        [ 67, 105, 163],\n",
       "        [ 68, 106, 164],\n",
       "        ...,\n",
       "        [212, 213, 211],\n",
       "        [212, 213, 211],\n",
       "        [212, 212, 212]],\n",
       "\n",
       "       [[ 68, 106, 164],\n",
       "        [ 68, 106, 164],\n",
       "        [ 68, 106, 164],\n",
       "        ...,\n",
       "        [212, 213, 211],\n",
       "        [212, 213, 211],\n",
       "        [212, 212, 212]],\n",
       "\n",
       "       [[ 70, 108, 166],\n",
       "        [ 70, 108, 166],\n",
       "        [ 70, 108, 166],\n",
       "        ...,\n",
       "        [213, 214, 212],\n",
       "        [213, 214, 212],\n",
       "        [213, 213, 213]],\n",
       "\n",
       "       ...,\n",
       "\n",
       "       [[205, 214, 218],\n",
       "        [206, 215, 219],\n",
       "        [207, 216, 220],\n",
       "        ...,\n",
       "        [136, 139, 143],\n",
       "        [136, 139, 143],\n",
       "        [136, 139, 143]],\n",
       "\n",
       "       [[205, 214, 218],\n",
       "        [206, 215, 219],\n",
       "        [208, 217, 221],\n",
       "        ...,\n",
       "        [136, 139, 143],\n",
       "        [136, 139, 143],\n",
       "        [136, 139, 143]],\n",
       "\n",
       "       [[205, 214, 218],\n",
       "        [206, 215, 219],\n",
       "        [207, 216, 220],\n",
       "        ...,\n",
       "        [136, 139, 143],\n",
       "        [136, 139, 143],\n",
       "        [136, 139, 143]]], dtype=uint8)"
      ]
     },
     "execution_count": 39,
     "metadata": {},
     "output_type": "execute_result"
    }
   ],
   "source": [
    "img"
   ]
  },
  {
   "cell_type": "code",
   "execution_count": 40,
   "metadata": {},
   "outputs": [],
   "source": [
    "cv2.imshow('image1',img)\n",
    "cv2.waitKey(0)\n",
    "cv2.destroyAllWindows()"
   ]
  },
  {
   "cell_type": "code",
   "execution_count": 41,
   "metadata": {},
   "outputs": [
    {
     "data": {
      "text/plain": [
       "(1279, 1711, 3)"
      ]
     },
     "execution_count": 41,
     "metadata": {},
     "output_type": "execute_result"
    }
   ],
   "source": [
    "img.shape"
   ]
  },
  {
   "cell_type": "code",
   "execution_count": null,
   "metadata": {},
   "outputs": [],
   "source": []
  }
 ],
 "metadata": {
  "kernelspec": {
   "display_name": "Python 3",
   "language": "python",
   "name": "python3"
  },
  "language_info": {
   "codemirror_mode": {
    "name": "ipython",
    "version": 3
   },
   "file_extension": ".py",
   "mimetype": "text/x-python",
   "name": "python",
   "nbconvert_exporter": "python",
   "pygments_lexer": "ipython3",
   "version": "3.7.4"
  }
 },
 "nbformat": 4,
 "nbformat_minor": 2
}
