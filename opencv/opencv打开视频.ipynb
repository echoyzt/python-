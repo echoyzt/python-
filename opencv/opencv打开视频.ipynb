{
 "cells": [
  {
   "cell_type": "code",
   "execution_count": 1,
   "metadata": {},
   "outputs": [],
   "source": [
    "import cv2\n",
    "import matplotlib.pyplot as plt\n",
    "import numpy as np\n",
    "%matplotlib inline\n",
    "vc=cv2.VideoCapture('D:\\hlht\\yuzt\\python\\pythonScripts\\opencv\\测试视频.mp4')\n",
    "if vc.isOpened():\n",
    "    open,frame=vc.read()\n",
    "else:\n",
    "    open=False\n",
    "while open:\n",
    "    ret,frame=vc.read()\n",
    "    if frame is None:\n",
    "        break\n",
    "    if ret== True:\n",
    "        gray=cv2.cvtColor(frame,cv2.COLOR_BGR2GRAY)\n",
    "        cv2.imshow('result',gray)\n",
    "        if cv2.waitKey(10) & 0xff ==27:\n",
    "            break\n",
    "vc.release()\n",
    "cv2.destroyAllWindows()"
   ]
  },
  {
   "cell_type": "code",
   "execution_count": null,
   "metadata": {},
   "outputs": [],
   "source": []
  }
 ],
 "metadata": {
  "kernelspec": {
   "display_name": "Python 3",
   "language": "python",
   "name": "python3"
  },
  "language_info": {
   "codemirror_mode": {
    "name": "ipython",
    "version": 3
   },
   "file_extension": ".py",
   "mimetype": "text/x-python",
   "name": "python",
   "nbconvert_exporter": "python",
   "pygments_lexer": "ipython3",
   "version": "3.7.4"
  }
 },
 "nbformat": 4,
 "nbformat_minor": 2
}
