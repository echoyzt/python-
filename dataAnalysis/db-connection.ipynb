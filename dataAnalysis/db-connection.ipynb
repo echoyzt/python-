{
 "cells": [
  {
   "cell_type": "code",
   "execution_count": 1,
   "metadata": {},
   "outputs": [
    {
     "name": "stdout",
     "output_type": "stream",
     "text": [
      "Collecting psycopg2-binary\n",
      "  Downloading https://files.pythonhosted.org/packages/65/4f/083f6b652b7fbecec1dc10bc9d1ffb66efd63611a25dddd0b4c1ef043ba6/psycopg2_binary-2.9.9-cp37-cp37m-win_amd64.whl (1.2MB)\n",
      "Installing collected packages: psycopg2-binary\n",
      "Successfully installed psycopg2-binary-2.9.9\n",
      "Note: you may need to restart the kernel to use updated packages.\n"
     ]
    }
   ],
   "source": [
    "pip install psycopg2-binary"
   ]
  },
  {
   "cell_type": "code",
   "execution_count": 18,
   "metadata": {},
   "outputs": [
    {
     "name": "stdout",
     "output_type": "stream",
     "text": [
      "<connection object at 0x000001F76FC07CA8; dsn: 'user=yuzt_mysql password=xxx dbname=beijing3th-jingzhou-timedelay-logs host=aliyun-medbot.rwlb.rds.aliyuncs.com port=5432', closed: 0>\n"
     ]
    }
   ],
   "source": [
    "import psycopg2\n",
    "import matplotlib.pyplot as plt\n",
    "import datetime\n",
    "x_list=[]\n",
    "y_list=[]\n",
    "connection = psycopg2.connect(\n",
    "            host=\"aliyun-medbot.rwlb.rds.aliyuncs.com\",\n",
    "            database=\"beijing3th-jingzhou-timedelay-logs\",\n",
    "            user=\"yuzt_mysql\",\n",
    "            password=\"Medbot8848\",\n",
    "            port=\"5432\"  # 默认是5432，如果使用默认可以省略\n",
    "        )\n",
    "print (connection)"
   ]
  },
  {
   "cell_type": "code",
   "execution_count": 19,
   "metadata": {},
   "outputs": [
    {
     "name": "stdout",
     "output_type": "stream",
     "text": [
      "('PostgreSQL 14.11',)\n",
      "[(datetime.datetime(2024, 5, 15, 8, 16, 56, 155000, tzinfo=datetime.timezone(datetime.timedelta(seconds=28800))), Decimal('24')), (datetime.datetime(2024, 5, 15, 8, 16, 56, 309000, tzinfo=datetime.timezone(datetime.timedelta(seconds=28800))), Decimal('25'))]\n",
      "2024-05-15 08:16:56.155000+08:00\n",
      "2024-05-15 08:16:56.309000+08:00\n"
     ]
    }
   ],
   "source": [
    "cursor = connection.cursor()\n",
    "cursor.execute(\"SELECT version();\") # 查询PostgreSQL版本\n",
    "record = cursor.fetchone()\n",
    "print(record)\n",
    "cursor.execute(\"SELECT * FROM _2024_05_15_networkrecord_log ORDER BY timestamp ASC LIMIT 2;\")\n",
    "timeResults=cursor.fetchall()\n",
    "print(timeResults)\n",
    "for time in timeResults:\n",
    "    print(time[0])\n",
    "    \n",
    "cursor.execute(\"SELECT * FROM _2024_05_15_networkrecord_log ORDER BY timestamp ASC;\")\n",
    "timeResults=cursor.fetchall()\n",
    "for time in timeResults:\n",
    "    x_list.append(time[0])\n",
    "    y_list.append(time[1])\n"
   ]
  },
  {
   "cell_type": "code",
   "execution_count": 22,
   "metadata": {},
   "outputs": [
    {
     "name": "stdout",
     "output_type": "stream",
     "text": [
      "104964 104964\n"
     ]
    },
    {
     "data": {
      "image/png": "[encoded data removed]",
      "text/plain": [
       "<Figure size 432x288 with 1 Axes>"
      ]
     },
     "metadata": {
      "needs_background": "light"
     },
     "output_type": "display_data"
    }
   ],
   "source": [
    "import numpy as np\n",
    "print(len(x_list),len(y_list))\n",
    "xarray=np.array(x_list)\n",
    "yarray=np.array(y_list)\n",
    "sizes=5\n",
    "\n",
    "plt.scatter(xarray, yarray, s=sizes)\n",
    "plt.show()"
   ]
  },
  {
   "cell_type": "code",
   "execution_count": null,
   "metadata": {},
   "outputs": [],
   "source": []
  }
 ],
 "metadata": {
  "kernelspec": {
   "display_name": "Python 3",
   "language": "python",
   "name": "python3"
  },
  "language_info": {
   "codemirror_mode": {
    "name": "ipython",
    "version": 3
   },
   "file_extension": ".py",
   "mimetype": "text/x-python",
   "name": "python",
   "nbconvert_exporter": "python",
   "pygments_lexer": "ipython3",
   "version": "3.7.4"
  }
 },
 "nbformat": 4,
 "nbformat_minor": 2
}
