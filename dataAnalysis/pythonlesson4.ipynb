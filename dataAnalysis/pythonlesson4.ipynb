{
 "cells": [
  {
   "cell_type": "code",
   "execution_count": 4,
   "metadata": {},
   "outputs": [
    {
     "data": {
      "text/plain": [
       "array([[[0., 0., 0.],\n",
       "        [0., 0., 0.]],\n",
       "\n",
       "       [[0., 0., 0.],\n",
       "        [0., 0., 0.]]])"
      ]
     },
     "execution_count": 4,
     "metadata": {},
     "output_type": "execute_result"
    }
   ],
   "source": [
    "#高维数组\n",
    "import numpy as np\n",
    "import pandas as pd\n",
    "np.zeros((2,2,3))"
   ]
  },
  {
   "cell_type": "code",
   "execution_count": 12,
   "metadata": {},
   "outputs": [
    {
     "data": {
      "text/plain": [
       "array([[[0., 0.],\n",
       "        [0., 0.],\n",
       "        [0., 0.]],\n",
       "\n",
       "       [[0., 0.],\n",
       "        [0., 0.],\n",
       "        [0., 0.]]])"
      ]
     },
     "execution_count": 12,
     "metadata": {},
     "output_type": "execute_result"
    }
   ],
   "source": [
    "np.zeros((2,3,2))"
   ]
  },
  {
   "cell_type": "code",
   "execution_count": 13,
   "metadata": {},
   "outputs": [
    {
     "name": "stdout",
     "output_type": "stream",
     "text": [
      "[ 0  1  2  3  4 12 12 12  8  9]\n"
     ]
    }
   ],
   "source": [
    "arr=np.arange(10)\n",
    "arr[5:8]=12\n",
    "arr_slice=arr[5:8]\n",
    "print (arr)"
   ]
  },
  {
   "cell_type": "code",
   "execution_count": null,
   "metadata": {},
   "outputs": [],
   "source": []
  },
  {
   "cell_type": "code",
   "execution_count": 3,
   "metadata": {},
   "outputs": [
    {
     "name": "stdout",
     "output_type": "stream",
     "text": [
      "3\n",
      "3\n"
     ]
    }
   ],
   "source": [
    "#索引和切片\n",
    "arr2d=np.array([[1,2,3],[4,5,6],[7,8,9]])\n",
    "print(arr2d[0][2])\n",
    "print(arr2d[0,2])"
   ]
  },
  {
   "cell_type": "code",
   "execution_count": null,
   "metadata": {},
   "outputs": [],
   "source": []
  },
  {
   "cell_type": "code",
   "execution_count": 5,
   "metadata": {},
   "outputs": [
    {
     "data": {
      "text/plain": [
       "array([[1, 2, 3],\n",
       "       [4, 5, 6]])"
      ]
     },
     "execution_count": 5,
     "metadata": {},
     "output_type": "execute_result"
    }
   ],
   "source": [
    "arr2d[:2]"
   ]
  },
  {
   "cell_type": "code",
   "execution_count": 6,
   "metadata": {},
   "outputs": [
    {
     "data": {
      "text/plain": [
       "array([[2, 3],\n",
       "       [5, 6]])"
      ]
     },
     "execution_count": 6,
     "metadata": {},
     "output_type": "execute_result"
    }
   ],
   "source": [
    "arr2d[:2,1:]"
   ]
  },
  {
   "cell_type": "code",
   "execution_count": 7,
   "metadata": {},
   "outputs": [
    {
     "data": {
      "text/plain": [
       "array([3, 6])"
      ]
     },
     "execution_count": 7,
     "metadata": {},
     "output_type": "execute_result"
    }
   ],
   "source": [
    "arr2d[:2,2]"
   ]
  },
  {
   "cell_type": "code",
   "execution_count": 9,
   "metadata": {},
   "outputs": [
    {
     "data": {
      "text/plain": [
       "array([[1],\n",
       "       [4],\n",
       "       [7]])"
      ]
     },
     "execution_count": 9,
     "metadata": {},
     "output_type": "execute_result"
    }
   ],
   "source": [
    "arr2d[:,:1]"
   ]
  },
  {
   "cell_type": "code",
   "execution_count": 10,
   "metadata": {},
   "outputs": [
    {
     "name": "stdout",
     "output_type": "stream",
     "text": [
      "d    4.5\n",
      "b    7.2\n",
      "a   -5.3\n",
      "c    3.6\n",
      "dtype: float64\n"
     ]
    }
   ],
   "source": [
    "import pandas as pd\n",
    "obj=pd.Series([4.5,7.2,-5.3,3.6],index=['d','b','a','c'])\n",
    "print(obj)"
   ]
  },
  {
   "cell_type": "code",
   "execution_count": 8,
   "metadata": {},
   "outputs": [
    {
     "name": "stdout",
     "output_type": "stream",
     "text": [
      "a   -5.3\n",
      "b    7.2\n",
      "c    3.6\n",
      "d    4.5\n",
      "e    NaN\n",
      "dtype: float64\n"
     ]
    }
   ],
   "source": [
    "obj2=obj.reindex(['a','b','c','d','e'])\n",
    "print(obj2)"
   ]
  },
  {
   "cell_type": "code",
   "execution_count": 13,
   "metadata": {},
   "outputs": [
    {
     "name": "stdout",
     "output_type": "stream",
     "text": [
      "    A   B   C   D   E\n",
      "0   0   1   2   3   4\n",
      "1   5   6   7   8   9\n",
      "2  10  11  12  13  14\n",
      "3  15  16  17  18  19\n",
      "4  20  21  22  23  24\n",
      "5  25  26  27  28  29\n"
     ]
    }
   ],
   "source": [
    "import pandas as pd\n",
    "import numpy as np\n",
    "data = pd.DataFrame(np.arange(30).reshape((6,5)),columns=['A','B','C','D','E'])\n",
    "print (data)"
   ]
  },
  {
   "cell_type": "code",
   "execution_count": 15,
   "metadata": {},
   "outputs": [
    {
     "name": "stdout",
     "output_type": "stream",
     "text": [
      "A    5\n",
      "B    6\n",
      "C    7\n",
      "D    8\n",
      "E    9\n",
      "Name: 1, dtype: int32\n"
     ]
    }
   ],
   "source": [
    "#读取第二行的值\n",
    "data1 = data.loc[1]\n",
    "print(data1)"
   ]
  },
  {
   "cell_type": "code",
   "execution_count": 23,
   "metadata": {},
   "outputs": [
    {
     "name": "stdout",
     "output_type": "stream",
     "text": [
      "A    0\n",
      "B    1\n",
      "C    2\n",
      "D    3\n",
      "E    4\n",
      "Name: 0, dtype: int32\n"
     ]
    }
   ],
   "source": [
    "data7=data.iloc[0]\n",
    "print(data7)"
   ]
  },
  {
   "cell_type": "code",
   "execution_count": 16,
   "metadata": {},
   "outputs": [
    {
     "name": "stdout",
     "output_type": "stream",
     "text": [
      "0     1\n",
      "1     6\n",
      "2    11\n",
      "3    16\n",
      "4    21\n",
      "5    26\n",
      "Name: B, dtype: int32\n"
     ]
    }
   ],
   "source": [
    "#读取第二列的值\n",
    "data2 = data.loc[ : ,\"B\"]\n",
    "print(data2)"
   ]
  },
  {
   "cell_type": "code",
   "execution_count": 17,
   "metadata": {},
   "outputs": [
    {
     "name": "stdout",
     "output_type": "stream",
     "text": [
      "6\n"
     ]
    }
   ],
   "source": [
    "# 读取第1行，第B列对应的值\n",
    "data3 = data.loc[ 1, \"B\"]\n",
    "print(data3)"
   ]
  },
  {
   "cell_type": "code",
   "execution_count": 18,
   "metadata": {},
   "outputs": [
    {
     "name": "stdout",
     "output_type": "stream",
     "text": [
      "    B   C   D\n",
      "1   6   7   8\n",
      "2  11  12  13\n",
      "3  16  17  18\n"
     ]
    }
   ],
   "source": [
    "# 读取第1行到第3行，第B列到第D列这个区域内的值\n",
    "data4 = data.loc[ 1:3, \"B\":\"D\"]\n",
    "print(data4)"
   ]
  },
  {
   "cell_type": "code",
   "execution_count": 19,
   "metadata": {},
   "outputs": [
    {
     "name": "stdout",
     "output_type": "stream",
     "text": [
      "    A   B   C   D   E\n",
      "2  10  11  12  13  14\n",
      "3  15  16  17  18  19\n",
      "4  20  21  22  23  24\n",
      "5  25  26  27  28  29\n"
     ]
    }
   ],
   "source": [
    "# 读取第B列中大于6的值\n",
    "data5 = data.loc[ data.B > 6] #等价于 data5 = data[data.B > 6]\n",
    "print(data5)"
   ]
  },
  {
   "cell_type": "code",
   "execution_count": 21,
   "metadata": {},
   "outputs": [
    {
     "name": "stdout",
     "output_type": "stream",
     "text": [
      "    B   C   D   E\n",
      "2  11  12  13  14\n",
      "3  16  17  18  19\n",
      "4  21  22  23  24\n",
      "5  26  27  28  29\n"
     ]
    }
   ],
   "source": [
    "# 进行切片操作，选择B，C，D，E四列区域内，B列大于6的值\n",
    "data6 = data.loc[ data.B >6, [\"B\",\"C\",\"D\",\"E\"]]\n",
    "print(data1)"
   ]
  },
  {
   "cell_type": "code",
   "execution_count": 1,
   "metadata": {},
   "outputs": [
    {
     "name": "stdout",
     "output_type": "stream",
     "text": [
      "         c1        c2        c3\n",
      "0 -0.244149 -0.117094 -0.562897\n",
      "1  1.325621  1.451623  0.091696\n",
      "2 -0.622995 -0.635117 -0.527194\n",
      "3 -0.519723 -0.270340 -0.506174\n",
      "         c1        c2        c3\n",
      "0  2.755851  2.882906  2.437103\n",
      "1  4.325621  4.451623  3.091696\n",
      "2  2.377005  2.364883  2.472806\n",
      "3  2.480277  2.729660  2.493826\n"
     ]
    }
   ],
   "source": [
    "#pipe(),apply(),applymap()操作函数，某行\n",
    "import pandas as pd\n",
    "import numpy as np\n",
    "#自定义函数\n",
    "def adder(ele1,ele2):\n",
    "   return ele1+ele2\n",
    "#操作DataFrame\n",
    "df = pd.DataFrame(np.random.randn(4,3),columns=['c1','c2','c3'])\n",
    "#相加前\n",
    "print(df)\n",
    "#相加后\n",
    "print(df.pipe(adder,3))"
   ]
  },
  {
   "cell_type": "code",
   "execution_count": 1,
   "metadata": {},
   "outputs": [
    {
     "name": "stdout",
     "output_type": "stream",
     "text": [
      "col1   -0.048045\n",
      "col2    0.078333\n",
      "col3   -0.118020\n",
      "dtype: float64\n",
      "0    0.602833\n",
      "1   -1.059298\n",
      "2    0.404695\n",
      "3   -0.772984\n",
      "4    0.678533\n",
      "dtype: float64\n",
      "0    148.711816\n",
      "1   -124.082125\n",
      "2    -29.363090\n",
      "3    -90.254559\n",
      "4     70.965315\n",
      "Name: col1, dtype: float64\n",
      "        col1       col2       col3\n",
      "0  14.871182   8.967777  -5.753960\n",
      "1 -12.408212  -4.186987 -15.183733\n",
      "2  -2.936309   0.872942  14.204230\n",
      "3  -9.025456 -10.459661  -3.704405\n",
      "4   7.096532   8.722581   4.536875\n"
     ]
    }
   ],
   "source": [
    "import pandas as pd\n",
    "import numpy as np\n",
    "df = pd.DataFrame(np.random.randn(5,3),columns=['col1','col2','col3'])\n",
    "#df.apply(np.mean)\n",
    "#默认按列操作，计算每一列均值\n",
    "print(df.apply(np.mean))\n",
    "\n",
    "print (df.apply(np.mean,axis=1))\n",
    "\n",
    "#自定义函数lambda函数\n",
    "print(df['col1'].map(lambda x:x*100))\n",
    "\n",
    "print(df.applymap(lambda x:x*10))"
   ]
  },
  {
   "cell_type": "code",
   "execution_count": 5,
   "metadata": {},
   "outputs": [
    {
     "name": "stdout",
     "output_type": "stream",
     "text": [
      "    name   age  gender isMarried\n",
      "a   John  20.0       0       yes\n",
      "b   Mike  32.0       0       yes\n",
      "c  Mozla  29.0       1        no\n",
      "d   Rose   NaN       1       yes\n",
      "e  David  15.0       0        no\n",
      "f  Marry  28.0       1        no\n",
      "g  Wansi  21.0       0        no\n",
      "h   Sidy  30.0       0       yes\n",
      "i   Jack  37.0       1        no\n",
      "j   Alic  25.0       1        no\n",
      "    name   age  gender isMarried\n",
      "a   John  20.0       0       yes\n",
      "b   Mike  32.0       0       yes\n",
      "c  Mozla  29.0       1        no\n",
      "d   Rose   NaN       1       yes\n",
      "a     John\n",
      "b     Mike\n",
      "c    Mozla\n",
      "d     Rose\n",
      "e    David\n",
      "f    Marry\n",
      "g    Wansi\n",
      "h     Sidy\n",
      "i     Jack\n",
      "j     Alic\n",
      "Name: name, dtype: object\n",
      "   name   age\n",
      "a  John  20.0\n",
      "d  Rose   NaN\n"
     ]
    }
   ],
   "source": [
    "#loc[] 接受两个参数，并以','分隔。第一个位置表示行，第二个位置表示列。\n",
    "import numpy as np\n",
    "import pandas as pd\n",
    "#创建一组数据\n",
    "data = {'name': ['John', 'Mike', 'Mozla', 'Rose', 'David', 'Marry', 'Wansi', 'Sidy', 'Jack', 'Alic'],\n",
    "        'age': [20, 32, 29, np.nan, 15, 28, 21, 30, 37, 25],\n",
    "        'gender': [0, 0, 1, 1, 0, 1, 0, 0, 1, 1],\n",
    "        'isMarried': ['yes', 'yes', 'no', 'yes', 'no', 'no', 'no', 'yes', 'no', 'no']}\n",
    "label = ['a', 'b', 'c', 'd', 'e', 'f', 'g', 'h', 'i', 'j']\n",
    "df = pd.DataFrame(data, index=label)\n",
    "print(df)\n",
    "#对行操作\n",
    "print(df.loc['a':'d',:]) #等同于df.loc['a':'d']\n",
    "#对列操作\n",
    "print(df.loc[:,'name'])\n",
    "#对行列同时操作\n",
    "print(df.loc[['a','d'],['name','age']])"
   ]
  },
  {
   "cell_type": "code",
   "execution_count": 7,
   "metadata": {},
   "outputs": [
    {
     "name": "stdout",
     "output_type": "stream",
     "text": [
      "          A         B         C         D\n",
      "0  1.159061 -0.526825  2.199428 -0.241417\n",
      "1 -0.727145 -1.146375  2.157409  0.649590\n",
      "2  0.691318 -0.991345 -0.030901  0.391429\n",
      "3  1.640356 -1.159359  0.698537 -0.427863\n",
      "4 -0.275805  1.159488  0.824182  0.890629\n",
      "5 -1.404269  2.048483  3.749100  0.539621\n",
      "6 -0.830464 -0.488315  1.736284 -0.092469\n",
      "7 -0.378946 -1.005187 -1.127907  0.028781\n",
      "A    0.691318\n",
      "B   -0.991345\n",
      "C   -0.030901\n",
      "D    0.391429\n",
      "Name: 2, dtype: float64\n",
      "          B         D\n",
      "1 -1.146375  0.649590\n",
      "3 -1.159359 -0.427863\n",
      "5  2.048483  0.539621\n",
      "          A         B         C         D\n",
      "1 -0.727145 -1.146375  2.157409  0.649590\n",
      "2  0.691318 -0.991345 -0.030901  0.391429\n",
      "          B         C\n",
      "0 -0.526825  2.199428\n",
      "1 -1.146375  2.157409\n",
      "2 -0.991345 -0.030901\n",
      "3 -1.159359  0.698537\n",
      "4  1.159488  0.824182\n",
      "5  2.048483  3.749100\n",
      "6 -0.488315  1.736284\n",
      "7 -1.005187 -1.127907\n"
     ]
    }
   ],
   "source": [
    "#df.iloc[] 只能使用整数索引，不能使用标签索引，通过整数索引切片选择数据时，前闭后开(不包含边界结束值)。同 Python 和 NumPy 一样，它们的索引都是从 0 开始\n",
    "import pandas as pd\n",
    "import numpy as np\n",
    "df = pd.DataFrame(np.random.randn(8, 4), columns = ['A', 'B', 'C', 'D'])\n",
    "print(df)\n",
    "print(df.iloc[2,])\n",
    "print (df.iloc[[1, 3, 5], [1, 3]])\n",
    "print (df.iloc[1:3, :])\n",
    "print (df.iloc[:,1:3])\n",
    "\n",
    "\n"
   ]
  },
  {
   "cell_type": "code",
   "execution_count": 10,
   "metadata": {},
   "outputs": [
    {
     "name": "stdout",
     "output_type": "stream",
     "text": [
      "                   A         B         C         D\n",
      "2020-12-01  0.565338  2.137809  0.355771  0.660917\n",
      "2020-12-02 -1.424568 -0.744922  1.726671 -0.784041\n",
      "2020-12-03  1.937914  0.964649 -0.315839 -0.485340\n",
      "2020-12-04  0.038592  1.427256  0.518337 -1.158714\n",
      "2020-12-05  2.044111  0.117694  1.138335 -1.786801\n",
      "2020-12-06 -0.042279 -2.217036 -0.636958 -1.051224\n",
      "2020-12-07 -0.050778 -0.409399  1.921651  0.164026\n",
      "2020-12-08 -0.612451 -0.245027  0.836185  2.195589\n",
      "                   A         B         C         D\n",
      "2020-12-01       NaN       NaN       NaN       NaN\n",
      "2020-12-02       NaN       NaN       NaN       NaN\n",
      "2020-12-03  0.359561  0.785845  0.588868 -0.202821\n",
      "2020-12-04  0.183979  0.548994  0.643056 -0.809365\n",
      "2020-12-05  1.340206  0.836533  0.446944 -1.143618\n",
      "2020-12-06  0.680141 -0.224029  0.339905 -1.332246\n",
      "2020-12-07  0.650351 -0.836247  0.807676 -0.891333\n",
      "2020-12-08 -0.235169 -0.957154  0.706960  0.436130\n",
      "                   A         B         C         D\n",
      "2020-12-01       NaN       NaN       NaN       NaN\n",
      "2020-12-02       NaN       NaN       NaN       NaN\n",
      "2020-12-03  0.359561  0.785845  0.588868 -0.202821\n",
      "2020-12-04  0.279319  0.946198  0.571235 -0.441795\n",
      "2020-12-05  0.632277  0.780497  0.684655 -0.710796\n",
      "2020-12-06  0.519851  0.280908  0.464386 -0.767534\n",
      "2020-12-07  0.438333  0.182293  0.672567 -0.634454\n",
      "2020-12-08  0.306985  0.128878  0.693019 -0.280698\n",
      "                   A         B         C         D\n",
      "2020-12-01  0.565338  2.137809  0.355771  0.660917\n",
      "2020-12-02 -0.927092 -0.024239  1.383946 -0.422802\n",
      "2020-12-03  1.056374  0.660376  0.207172 -0.466097\n",
      "2020-12-04  0.369371  1.178020  0.417209 -0.933614\n",
      "2020-12-05  1.490478  0.468215  0.899946 -1.504755\n",
      "2020-12-06  0.467236 -1.324411 -0.126064 -1.201986\n",
      "2020-12-07  0.121735 -0.714124  1.239704 -0.290894\n",
      "2020-12-08 -0.367797 -0.401345  0.970651  1.367014\n"
     ]
    }
   ],
   "source": [
    "\"\"\"\n",
    "Pandas 提供了几种窗口函数，比如移动函数（rolling）、扩展函数（expanding）和指数加权函数（ewm）.\n",
    "理解一下扩展窗口的含义：\n",
    "表示至少 3 个数求一次均值，计算方式为\n",
    "A2=(A0+A1+A2)/3，\n",
    "A3=(A0+A1+A2+A3)/4\n",
    "A4=(A0+A1+A2+A3+A4)/5\n",
    "A5 A6 依次类推。\n",
    "\"\"\"\n",
    "import pandas as pd\n",
    "import numpy as np\n",
    "#生成时间序列\n",
    "df = pd.DataFrame(np.random.randn(8, 4),index = pd.date_range('12/1/2020', periods=8),columns = ['A', 'B', 'C', 'D'])\n",
    "print(df)\n",
    "#每3个数求求一次均值\n",
    "print(df.rolling(window=3).mean())\n",
    "\n",
    "print (df.expanding(min_periods=3).mean())\n",
    "\n",
    "#设置com=0.5，先加权再求均值\n",
    "print(df.ewm(com=0.5).mean())"
   ]
  },
  {
   "cell_type": "code",
   "execution_count": null,
   "metadata": {},
   "outputs": [],
   "source": []
  }
 ],
 "metadata": {
  "kernelspec": {
   "display_name": "Python 3",
   "language": "python",
   "name": "python3"
  },
  "language_info": {
   "codemirror_mode": {
    "name": "ipython",
    "version": 3
   },
   "file_extension": ".py",
   "mimetype": "text/x-python",
   "name": "python",
   "nbconvert_exporter": "python",
   "pygments_lexer": "ipython3",
   "version": "3.7.4"
  }
 },
 "nbformat": 4,
 "nbformat_minor": 2
}
